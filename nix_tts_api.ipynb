{
  "nbformat": 4,
  "nbformat_minor": 0,
  "metadata": {
    "colab": {
      "name": "nix-tts api",
      "private_outputs": true,
      "provenance": [],
      "collapsed_sections": []
    },
    "kernelspec": {
      "name": "python3",
      "display_name": "Python 3"
    },
    "language_info": {
      "name": "python"
    },
    "accelerator": "GPU"
  },
  "cells": [
    {
      "cell_type": "code",
      "source": [
        "# https://huggingface.co/spaces/rendchevi/nix-tts"
      ],
      "metadata": {
        "id": "n1W658A9Y3pE"
      },
      "execution_count": null,
      "outputs": []
    },
    {
      "cell_type": "code",
      "execution_count": null,
      "metadata": {
        "id": "Aj3KCthEXCds"
      },
      "outputs": [],
      "source": [
        "# @title ##**install module** { display-mode: \"form\" }\n",
        "from IPython.display import clear_output\n",
        "\n",
        "%cd /content/\n",
        "!pip install gdown\n",
        "!apt-get install espeak\n",
        "!pip install pydub\n",
        "!pip install gradio\n",
        "!git clone https://github.com/rendchevi/nix-tts.git\n",
        "%cd nix-tts\n",
        "%cd /content/nix-tts\n",
        "!pip install -r requirements.txt \n",
        "!mkdir deterministic\n",
        "%cd /content/nix-tts/deterministic\n",
        "!gdown https://drive.google.com/uc?id=1vsp8oqdFvQahODc2xax6JAUPWl9tmBzt\n",
        "!gdown https://drive.google.com/uc?id=1NahMOHe39Q8Miup9iGJSGgKK5r54Dy7t\n",
        "!gdown https://drive.google.com/uc?id=1BqN4qdIpswIJ-S8E7ZO70W5p9am1wPDy\n",
        "%cd /content/nix-tts\n",
        "!mkdir stochastic\n",
        "%cd /content/nix-tts/stochastic\n",
        "!gdown https://drive.google.com/uc?id=1hW4OYcBC0jOj01955Dt11bJLV1Cnx9mR\n",
        "!gdown https://drive.google.com/uc?id=1uUX7nIETkrbede0E40E9Bw9K_rnRdO2y\n",
        "!gdown https://drive.google.com/uc?id=1754afmkk6WPlEqkYrDhC-tPYTWT6IRlZ\n",
        "%cd /content/nix-tts\n",
        "clear_output()"
      ]
    },
    {
      "cell_type": "code",
      "source": [
        "# @title ##**Choose model** { display-mode: \"form\" }\n",
        "\n",
        "from nix.models.TTS import NixTTSInference\n",
        "from IPython.display import Audio\n",
        "from pydub import AudioSegment\n",
        "import soundfile as sf\n",
        "import gradio as gr\n",
        "choose_model = \"deterministic\" #@param ['deterministic', 'stochastic']\n",
        "if choose_model == \"stochastic\":\n",
        "  model_path=\"/content/nix-tts/stochastic/\"\n",
        "if choose_model == \"deterministic\":  \n",
        "  model_path=\"/content/nix-tts/deterministic\"\n",
        "\n",
        "# Initiate Nix-TTS\n",
        "nix = NixTTSInference(model_dir = model_path)\n",
        "# input_text = 'where are you from'  #@param {type: \"string\"}\n",
        "def text_to_speech(input_text):\n",
        "  c, c_length, phoneme = nix.tokenize(input_text)\n",
        "  xw = nix.vocalize(c, c_length)\n",
        "  return  22050, xw[0,0]\n",
        "  # data=(xw[0,0], 22050)\n",
        "  # sf.write('/content/test.wav', data[0],data[1], 'PCM_24')\n",
        "  # src = \"/content/test.wav\"\n",
        "  # dst = \"/content/test.mp3\"\n",
        "  # sound = AudioSegment.from_mp3(src)\n",
        "  # sound.export(dst, format=\"wav\")\n",
        "  # return \"/content/test.mp3\"\n",
        "  # Audio(\"/content/test.mp3\")\n",
        "\n",
        "iface = gr.Interface(fn=text_to_speech, inputs=[\"text\"], outputs=[\"audio\"]).launch()"
      ],
      "metadata": {
        "id": "7utXxKNfZ7Yb"
      },
      "execution_count": null,
      "outputs": []
    }
  ]
}